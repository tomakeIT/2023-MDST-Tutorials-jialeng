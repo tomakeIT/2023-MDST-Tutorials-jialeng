{
  "nbformat": 4,
  "nbformat_minor": 0,
  "metadata": {
    "colab": {
      "provenance": [],
      "include_colab_link": true
    },
    "kernelspec": {
      "name": "python3",
      "display_name": "Python 3"
    },
    "language_info": {
      "name": "python"
    }
  },
  "cells": [
    {
      "cell_type": "markdown",
      "metadata": {
        "id": "view-in-github",
        "colab_type": "text"
      },
      "source": [
        "<a href=\"https://colab.research.google.com/github/tomakeIT/2023-MDST-Tutorials-jialeng/blob/master/next_word_prediction_model.ipynb\" target=\"_parent\"><img src=\"https://colab.research.google.com/assets/colab-badge.svg\" alt=\"Open In Colab\"/></a>"
      ]
    },
    {
      "cell_type": "code",
      "source": [
        "\"\"\"\n",
        "TASK FOR 9/24\n",
        "MAKE THE CODE MORE READABLE,\n",
        "MORE MODULAR, AND MORE PYTHONIC\n",
        "\"\"\""
      ],
      "metadata": {
        "id": "3aKDe92UHbmo"
      },
      "execution_count": null,
      "outputs": []
    },
    {
      "cell_type": "code",
      "execution_count": null,
      "metadata": {
        "id": "iIUBWh3bLf6q"
      },
      "outputs": [],
      "source": [
        "import regex as re"
      ]
    },
    {
      "cell_type": "code",
      "source": [
        "FILE_PATH = \"sherlock_holmes_text.txt\"\n",
        "\n",
        "with open(FILE_PATH, \"r\") as file:\n",
        "  txt = file.read()"
      ],
      "metadata": {
        "id": "qBwTCkLUF6DP"
      },
      "execution_count": null,
      "outputs": []
    },
    {
      "cell_type": "code",
      "source": [
        "txt = re.sub(r\"\\n+\", \" \", txt)\n",
        "txt = re.sub(r\"\\t|\\r\", \"\", txt)\n",
        "txt = re.sub(r\"“|”|‘|’\", \"\", txt)\n",
        "txt = re.sub(r\"(XI{0,2}\\.)|(VI{0,3}\\.)|(IV|IX|I{1,3}\\.)\", \"\", txt)\n",
        "\n",
        "# Split into sentences\n",
        "sentences = re.split(r\"(?<!Mr|Mrs|Dr|No)(?:[!?.])\\s+\", txt)\n",
        "sentences = [sentence.strip() for sentence in sentences if sentence.strip()]"
      ],
      "metadata": {
        "id": "fhzm2iylHQ3T"
      },
      "execution_count": null,
      "outputs": []
    },
    {
      "cell_type": "code",
      "source": [
        "sentences"
      ],
      "metadata": {
        "id": "zuJ6Ittxq4k3"
      },
      "execution_count": null,
      "outputs": []
    }
  ]
}